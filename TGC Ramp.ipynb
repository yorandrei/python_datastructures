{
 "cells": [
  {
   "cell_type": "code",
   "execution_count": 2,
   "metadata": {},
   "outputs": [],
   "source": [
    "import matplotlib.pyplot as plt\n",
    "import numpy as np"
   ]
  },
  {
   "cell_type": "code",
   "execution_count": 3,
   "metadata": {},
   "outputs": [
    {
     "data": {
      "text/plain": [
       "<Figure size 432x288 with 0 Axes>"
      ]
     },
     "metadata": {},
     "output_type": "display_data"
    },
    {
     "data": {
      "image/png": "[encoded data removed]",
      "text/plain": [
       "<Figure size 432x288 with 4 Axes>"
      ]
     },
     "metadata": {
      "needs_background": "light"
     },
     "output_type": "display_data"
    }
   ],
   "source": [
    "fig = plt.figure()\n",
    "fig.suptitle('No axes on this figure')\n",
    "fig, ax_lst = plt.subplots(2,2) # figure with 2x2 grid of axes"
   ]
  },
  {
   "cell_type": "code",
   "execution_count": 4,
   "metadata": {},
   "outputs": [
    {
     "name": "stdout",
     "output_type": "stream",
     "text": [
      "3500000.0\n",
      "28000000.0\n"
     ]
    }
   ],
   "source": [
    "# up, down ramp - DS p.38\n",
    "#tmax = 53e6  # wrong.  see total_time below\n",
    "# Sampling clock is input clock - 28MHz. \n",
    "# Each half-cycle of fs a sample (14 bits) comes out. (Table 14, p.64)\n",
    "fs = 28e6\n",
    "ts = 1.0 / fs \n",
    "t_pos_step_f = fs / (2**(7 - 4))\n",
    "t_neg_step_f = fs / (2**(7 - 7))\n",
    "print(fs / 8)\n",
    "print(fs)"
   ]
  },
  {
   "cell_type": "code",
   "execution_count": 5,
   "metadata": {},
   "outputs": [],
   "source": [
    "start_gain = 6 + 80*0.125  # 16dB\n",
    "# stop gain is the top of the ramp.  Must be larger than start gain.\n",
    "# Gain N must be 0 to 319.  A value outside this range automatically goes to 0.\n",
    "stop_gain = 6 + 220*0.125  # 33.5dB"
   ]
  },
  {
   "cell_type": "code",
   "execution_count": 6,
   "metadata": {},
   "outputs": [
    {
     "name": "stdout",
     "output_type": "stream",
     "text": [
      "7.314285714285714e-05\n"
     ]
    }
   ],
   "source": [
    "# Time for entire image frame:\n",
    "total_time = (1.0 / fs) * 2048\n",
    "print(total_time)"
   ]
  },
  {
   "cell_type": "code",
   "execution_count": 7,
   "metadata": {},
   "outputs": [
    {
     "name": "stdout",
     "output_type": "stream",
     "text": [
      "4e-05\n"
     ]
    }
   ],
   "source": [
    "ramp_up_time = (33.5 - 16) / 0.125 / t_pos_step_f\n",
    "print(ramp_up_time)"
   ]
  },
  {
   "cell_type": "code",
   "execution_count": 8,
   "metadata": {},
   "outputs": [
    {
     "name": "stdout",
     "output_type": "stream",
     "text": [
      "5e-06\n"
     ]
    }
   ],
   "source": [
    "ramp_down_time = (33.5 - 16) / 0.125 / t_neg_step_f\n",
    "print(ramp_down_time)"
   ]
  },
  {
   "cell_type": "code",
   "execution_count": 9,
   "metadata": {},
   "outputs": [
    {
     "data": {
      "text/plain": [
       "0.03571428571428571"
      ]
     },
     "execution_count": 9,
     "metadata": {},
     "output_type": "execute_result"
    }
   ],
   "source": [
    "# fs period is 35.7ns\n",
    "1/28.0"
   ]
  },
  {
   "cell_type": "code",
   "execution_count": 10,
   "metadata": {},
   "outputs": [
    {
     "data": {
      "image/png": "[encoded data removed]",
      "text/plain": [
       "<Figure size 648x288 with 2 Axes>"
      ]
     },
     "metadata": {
      "needs_background": "light"
     },
     "output_type": "display_data"
    }
   ],
   "source": [
    "t = np.arange(0, total_time, total_time / 2048)\n",
    "gain = []\n",
    "gainv = start_gain\n",
    "cnt = 0\n",
    "for tn in t:\n",
    "    cnt += 1\n",
    "    if tn < 5e-6:\n",
    "        gainv = start_gain\n",
    "        gain.append(gainv)\n",
    "    elif tn < 50e-6 and gainv < stop_gain and cnt % 8 == 0:\n",
    "        gainv += 0.125\n",
    "        gain.append(gainv)\n",
    "    elif tn > 55e-6 and gainv > start_gain:\n",
    "        gainv -= 0.125\n",
    "        gain.append(gainv)\n",
    "    else:\n",
    "        gain.append(gainv)\n",
    "        \n",
    "\n",
    "fig = plt.figure(figsize=(9, 4))\n",
    "ax1 = fig.add_subplot(111)\n",
    "ax1.plot(t*10e5, gain)\n",
    "\n",
    "depth = t[0::256] * 1500 / 2 * 1000\n",
    "ax2 = ax1.twiny()\n",
    "ax2.set_xticks(depth)\n",
    "ax1.set_xlim(0.0, 73.0)\n",
    "ax2.set_xlabel('Depth, mm')\n",
    "\n",
    "ax1.set_xlabel(r'Time, $us$')\n",
    "ax1.set_ylabel('Gain, dB')\n",
    "\n",
    "#ax2.set_title(\"TGC Gain Curve\")\n",
    "\n",
    "plt.grid()\n",
    "plt.show()\n",
    "        "
   ]
  },
  {
   "cell_type": "markdown",
   "metadata": {},
   "source": [
    "### Note: The AFE low-noise amplifiers are enabled by TR_EN signals controlled by max state machine. \n",
    "These signals need to be delayed to filter out the initial junk in input data.  Real data starts around 5us - 6us time.\n",
    "Current delay is less than 1us.  \n",
    "### Noise at the bottom of screen\n",
    "Our pictures currently have a lot of noise right at the bottom of the screen.  This comes from the TR_EN switches \n",
    "turning off at 53us time mark.  This is controlled by a parameter in max state machine as well - VCNTLM and VCNTLP.\n",
    "These parameters need to be extended to delay the switch to at least 70us.  \n",
    "The ramp down of TGC will need to be delayed accordingly."
   ]
  },
  {
   "cell_type": "code",
   "execution_count": 11,
   "metadata": {},
   "outputs": [
    {
     "data": {
      "text/plain": [
       "4.861607142857143e-06"
      ]
     },
     "execution_count": 11,
     "metadata": {},
     "output_type": "execute_result"
    }
   ],
   "source": [
    "clock_period = 1/(112 * 10e6)\n",
    "delay_total = (5040 + 45 + 24 + 112 + 224) * clock_period\n",
    "delay_total"
   ]
  },
  {
   "cell_type": "code",
   "execution_count": 12,
   "metadata": {},
   "outputs": [
    {
     "data": {
      "text/plain": [
       "2e-07"
      ]
     },
     "execution_count": 12,
     "metadata": {},
     "output_type": "execute_result"
    }
   ],
   "source": [
    "delay = 224 * clock_period\n",
    "delay"
   ]
  },
  {
   "cell_type": "markdown",
   "metadata": {},
   "source": [
    "### This is the actual delay before AFEs start reading input data - 0.8us!"
   ]
  },
  {
   "cell_type": "markdown",
   "metadata": {},
   "source": [
    "TGC maximum gain is 45db.  Currently it only goes to 35db.  Need to fix it in the future.\n",
    "The ramp seems to have the right gain, so both close shallow and deep features have similar values, but \n",
    "it could be adjusted to shift the whole curve up somewhat.\n",
    "It is possible that the initial noise is not due to MUX switching, but rather due to AFE LNAs turning on (controlled by TR_EN signals).  In that case instead of delaying those signals further we will have to reduce the delay.  "
   ]
  },
  {
   "cell_type": "markdown",
   "metadata": {},
   "source": [
    "### Custom TGC Profile based on depth - value pairs\n",
    "The data sheet for AFEs does not talk about such a custom profile as Chris mentioned.  Use piece-wise-linear curve "
   ]
  },
  {
   "cell_type": "markdown",
   "metadata": {},
   "source": [
    "### Re-calculating  TGC Values to Maximize Gain\n",
    "As indicated in the DS on page 39, there are six control parameters for Up/Down Ramp Mode, which in Profile 0 are set in registers 161 (hex A1) and 162 (hex A2):\n",
    "\n",
    "| Name                   |Register| Bits | Calculation            | Default | Range    | Desired | Code |\n",
    "|:----------------------:|--------|:----:|:----------------------:|:-------:|:--------:|:-------:|:----:|\n",
    "|Start Gain              | 161    | 15:8 | 6 + N * 0.25 dB        |    0    | 0 to 159 | 20 dB   | 56   |\n",
    "|Stop Gain               | 161    | 7:0  | 6 + N * 0.25 dB        |  159    | 0 to 159 | 45 dB   | 156  |\n",
    "|Positive Step           | 162    | 15:11| (N + 1) * 0.125 dB     |    0    | 0 to 31  | 0.125dB |   0  |\n",
    "|Positive Step Frequency | 162    | 10:8 | $\\frac{fs}{2^{7 - N}}$ |    0    | 0 to 7   | 14 MHz  |   6  |\n",
    "|Negative Step           | 162    | 7:3  | (N + 1) * 0.125 dB     |   31    | 0 to 31  | 0.5dB   |   3  |\n",
    "|Negative Step Frequency | 162    | 2:0  | $\\frac{fs}{2^{7 - N}}$ |    7    | 0 to 7   | 28 MHz  |   7  |"
   ]
  },
  {
   "cell_type": "code",
   "execution_count": 13,
   "metadata": {},
   "outputs": [
    {
     "name": "stdout",
     "output_type": "stream",
     "text": [
      "Total time is 7.314285714285714e-05, each sample is 3.571428571428571e-08\n",
      "1.4285714285714285e-05\n",
      "1.7857142857142857e-06\n"
     ]
    },
    {
     "data": {
      "image/png": "[encoded data removed]",
      "text/plain": [
       "<Figure size 648x288 with 2 Axes>"
      ]
     },
     "metadata": {
      "needs_background": "light"
     },
     "output_type": "display_data"
    }
   ],
   "source": [
    "# Sampling clock is input clock - 28MHz. \n",
    "fs = 28e6\n",
    "# fs period is 35.7ns\n",
    "ts = 1.0 / fs \n",
    "\n",
    "start_gain_code = 56 # 20dB\n",
    "stop_gain_code = 156 # 45dB\n",
    "pos_step_code = 0    # 0.125 dB\n",
    "pos_step_freq_code = 6  # 6 gives us fs/2 = 14 MHz.  This results in desired 1.8dB/us ramp. 5 gives 0.9 dB/us, a bit low.\n",
    "neg_step_code = 3\n",
    "neg_step_freq_code = 7\n",
    "\n",
    "ramp_start_delay = 4.5e-6\n",
    "ramp_down_delay = 65.3e-6\n",
    "\n",
    "start_gain = 6 + start_gain_code * 0.25  \n",
    "# stop gain is the top of the ramp.  Must be larger than start gain.\n",
    "stop_gain = 6 + stop_gain_code * 0.25  \n",
    "pos_step = (pos_step_code + 1) * 0.125\n",
    "neg_step = (neg_step_code + 1) * 0.125\n",
    "\n",
    "t_pos_step_f = fs / (2**(7 - pos_step_freq_code))\n",
    "t_neg_step_f = fs / (2**(7 - neg_step_freq_code))\n",
    "pos_divider = int(fs / t_pos_step_f)   # 8\n",
    "neg_divider = int(fs / t_neg_step_f)   # 1\n",
    "\n",
    "# Time for entire image frame:\n",
    "total_time = (1.0 / fs) * 2048\n",
    "print(f\"Total time is {total_time}, each sample is {1.0 / fs}\")\n",
    "\n",
    "ramp_up_time = (stop_gain - start_gain) / pos_step / t_pos_step_f\n",
    "print(ramp_up_time)\n",
    "\n",
    "ramp_down_time = (stop_gain - start_gain) / neg_step / t_neg_step_f\n",
    "print(ramp_down_time)\n",
    "\n",
    "t = np.arange(0, total_time, total_time / 2048)\n",
    "gain = []\n",
    "gainv = start_gain\n",
    "cnt = 0\n",
    "for tn in t:\n",
    "    cnt += 1\n",
    "    if tn < ramp_start_delay:\n",
    "        gainv = start_gain\n",
    "        gain.append(gainv)\n",
    "    elif tn < ramp_down_delay:\n",
    "        if gainv < stop_gain and cnt % pos_divider == 0:\n",
    "            gainv += 0.125\n",
    "        gain.append(gainv)\n",
    "    else:\n",
    "        if gainv > start_gain and cnt % neg_divider == 0:\n",
    "            gainv -= 0.125\n",
    "        gain.append(gainv)\n",
    "\n",
    "        \n",
    "\n",
    "fig = plt.figure(figsize=(9, 4))\n",
    "ax1 = fig.add_subplot(111)\n",
    "ax1.plot(t*10e5, gain)\n",
    "\n",
    "depth = t[0::256] * 1500 / 2 * 1000\n",
    "ax2 = ax1.twiny()\n",
    "ax2.set_xticks(depth)\n",
    "ax1.set_xlim(0.0, 90.0)\n",
    "ax2.set_xlabel('Depth, mm')\n",
    "\n",
    "ax1.set_xlabel(r'Time, $us$')\n",
    "ax1.set_ylabel('Gain, dB')\n",
    "\n",
    "#ax2.set_title(\"TGC Gain Curve\")\n",
    "\n",
    "plt.grid()\n",
    "plt.show()"
   ]
  },
  {
   "cell_type": "markdown",
   "metadata": {},
   "source": [
    "There are several things that need to be changed to use up/down ramp:\n",
    "* Write parameters into Profile 0 registers 161 & 162 (xA1, A2). Those are above parameters: start gain, stop gain, pos. step...\n",
    "* Enable Up/Down ramp mode - write 01 into bits 15:14 in register 182 (xB6)\n",
    "* Select Profile 0 - write 00 into bits 13:12  in register 182 (xB6)"
   ]
  },
  {
   "cell_type": "markdown",
   "metadata": {},
   "source": []
  }
 ],
 "metadata": {
  "kernelspec": {
   "display_name": "Python 3",
   "language": "python",
   "name": "python3"
  },
  "language_info": {
   "codemirror_mode": {
    "name": "ipython",
    "version": 3
   },
   "file_extension": ".py",
   "mimetype": "text/x-python",
   "name": "python",
   "nbconvert_exporter": "python",
   "pygments_lexer": "ipython3",
   "version": "3.7.0"
  }
 },
 "nbformat": 4,
 "nbformat_minor": 2
}
